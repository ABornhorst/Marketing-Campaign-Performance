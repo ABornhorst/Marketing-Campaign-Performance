{
 "cells": [
  {
   "cell_type": "markdown",
   "id": "77a14397",
   "metadata": {},
   "source": [
    "# Marketing Campaign Performance"
   ]
  },
  {
   "cell_type": "markdown",
   "id": "e1fe239b",
   "metadata": {},
   "source": [
    "## Descriptive Analysis"
   ]
  },
  {
   "cell_type": "markdown",
   "id": "f72fdb85",
   "metadata": {},
   "source": [
    "## Variables:\n",
    "\n",
    "* **Campaign_ID:** Type Numeric or alphanumeric unique identifier for each campaign.\n",
    "* **Company:** Name of the company responsible for the campaign.\n",
    "* **Campaign_Type:** Type of campaign (e.g., display, social media, email).\n",
    "* **Target_Audience:** Description of the campaign's intended audience.\n",
    "* **Duration:** Duration of the campaign in days or weeks.\n",
    "* **Channel_Used:** Marketing channels used in the campaign (e.g., influencer, social media, email).\n",
    "* **Conversion_Rate:** The ratio of conversions (e.g., sales) to the number of individuals reached.\n",
    "* **Acquisition_Cost:** Total cost of acquiring leads or conversions through the campaign.\n",
    "* **ROI (Return on Investment):** Return on Investment, representing the profitability and success of the campaign.\n",
    "* **Location:** Geographic locations where the campaign is implemented.\n",
    "* **Language:** The language in which the campaign or content is presented.\n",
    "* **Clicks:** The number of times users clicked on the campaign content or advertisement.\n",
    "* **Impressions:** The total number of times the campaign content was displayed to users.\n",
    "* **Engagement_Score:** A score that quantifies the level of engagement with the campaign (likes, shares, comments, etc.).\n",
    "* **Customer_Segment:** The specific segment of customers or audience that the campaign is targeting.\n",
    "* **Date:** The date on which the campaign or interaction took place."
   ]
  },
  {
   "cell_type": "markdown",
   "id": "fe18586f",
   "metadata": {},
   "source": [
    "## Packages"
   ]
  },
  {
   "cell_type": "code",
   "execution_count": 2,
   "id": "8b5e1eb9",
   "metadata": {},
   "outputs": [],
   "source": [
    "import pandas as pd\n",
    "import numpy as np\n",
    "from scipy import stats\n",
    "import matplotlib.pyplot as plt\n",
    "import seaborn as sns"
   ]
  },
  {
   "cell_type": "markdown",
   "id": "22b944c2",
   "metadata": {},
   "source": [
    "## Load Data Set"
   ]
  },
  {
   "cell_type": "code",
   "execution_count": 3,
   "id": "2c075e81",
   "metadata": {},
   "outputs": [
    {
     "data": {
      "text/html": [
       "<div>\n",
       "<style scoped>\n",
       "    .dataframe tbody tr th:only-of-type {\n",
       "        vertical-align: middle;\n",
       "    }\n",
       "\n",
       "    .dataframe tbody tr th {\n",
       "        vertical-align: top;\n",
       "    }\n",
       "\n",
       "    .dataframe thead th {\n",
       "        text-align: right;\n",
       "    }\n",
       "</style>\n",
       "<table border=\"1\" class=\"dataframe\">\n",
       "  <thead>\n",
       "    <tr style=\"text-align: right;\">\n",
       "      <th></th>\n",
       "      <th>Campaign_ID</th>\n",
       "      <th>Company</th>\n",
       "      <th>Campaign_Type</th>\n",
       "      <th>Target_Audience</th>\n",
       "      <th>Duration</th>\n",
       "      <th>Channel_Used</th>\n",
       "      <th>Conversion_Rate</th>\n",
       "      <th>Acquisition_Cost</th>\n",
       "      <th>ROI</th>\n",
       "      <th>Location</th>\n",
       "      <th>Language</th>\n",
       "      <th>Clicks</th>\n",
       "      <th>Impressions</th>\n",
       "      <th>Engagement_Score</th>\n",
       "      <th>Customer_Segment</th>\n",
       "      <th>Date</th>\n",
       "    </tr>\n",
       "  </thead>\n",
       "  <tbody>\n",
       "    <tr>\n",
       "      <th>0</th>\n",
       "      <td>1</td>\n",
       "      <td>Innovate Industries</td>\n",
       "      <td>Email</td>\n",
       "      <td>Men 18-24</td>\n",
       "      <td>30 days</td>\n",
       "      <td>Google Ads</td>\n",
       "      <td>0.04</td>\n",
       "      <td>$16,174.00</td>\n",
       "      <td>6.29</td>\n",
       "      <td>Chicago</td>\n",
       "      <td>Spanish</td>\n",
       "      <td>506</td>\n",
       "      <td>1922</td>\n",
       "      <td>6</td>\n",
       "      <td>Health &amp; Wellness</td>\n",
       "      <td>2021-01-01</td>\n",
       "    </tr>\n",
       "    <tr>\n",
       "      <th>1</th>\n",
       "      <td>2</td>\n",
       "      <td>NexGen Systems</td>\n",
       "      <td>Email</td>\n",
       "      <td>Women 35-44</td>\n",
       "      <td>60 days</td>\n",
       "      <td>Google Ads</td>\n",
       "      <td>0.12</td>\n",
       "      <td>$11,566.00</td>\n",
       "      <td>5.61</td>\n",
       "      <td>New York</td>\n",
       "      <td>German</td>\n",
       "      <td>116</td>\n",
       "      <td>7523</td>\n",
       "      <td>7</td>\n",
       "      <td>Fashionistas</td>\n",
       "      <td>2021-01-02</td>\n",
       "    </tr>\n",
       "    <tr>\n",
       "      <th>2</th>\n",
       "      <td>3</td>\n",
       "      <td>Alpha Innovations</td>\n",
       "      <td>Influencer</td>\n",
       "      <td>Men 25-34</td>\n",
       "      <td>30 days</td>\n",
       "      <td>YouTube</td>\n",
       "      <td>0.07</td>\n",
       "      <td>$10,200.00</td>\n",
       "      <td>7.18</td>\n",
       "      <td>Los Angeles</td>\n",
       "      <td>French</td>\n",
       "      <td>584</td>\n",
       "      <td>7698</td>\n",
       "      <td>1</td>\n",
       "      <td>Outdoor Adventurers</td>\n",
       "      <td>2021-01-03</td>\n",
       "    </tr>\n",
       "    <tr>\n",
       "      <th>3</th>\n",
       "      <td>4</td>\n",
       "      <td>DataTech Solutions</td>\n",
       "      <td>Display</td>\n",
       "      <td>All Ages</td>\n",
       "      <td>60 days</td>\n",
       "      <td>YouTube</td>\n",
       "      <td>0.11</td>\n",
       "      <td>$12,724.00</td>\n",
       "      <td>5.55</td>\n",
       "      <td>Miami</td>\n",
       "      <td>Mandarin</td>\n",
       "      <td>217</td>\n",
       "      <td>1820</td>\n",
       "      <td>7</td>\n",
       "      <td>Health &amp; Wellness</td>\n",
       "      <td>2021-01-04</td>\n",
       "    </tr>\n",
       "    <tr>\n",
       "      <th>4</th>\n",
       "      <td>5</td>\n",
       "      <td>NexGen Systems</td>\n",
       "      <td>Email</td>\n",
       "      <td>Men 25-34</td>\n",
       "      <td>15 days</td>\n",
       "      <td>YouTube</td>\n",
       "      <td>0.05</td>\n",
       "      <td>$16,452.00</td>\n",
       "      <td>6.50</td>\n",
       "      <td>Los Angeles</td>\n",
       "      <td>Mandarin</td>\n",
       "      <td>379</td>\n",
       "      <td>4201</td>\n",
       "      <td>3</td>\n",
       "      <td>Health &amp; Wellness</td>\n",
       "      <td>2021-01-05</td>\n",
       "    </tr>\n",
       "  </tbody>\n",
       "</table>\n",
       "</div>"
      ],
      "text/plain": [
       "   Campaign_ID              Company Campaign_Type Target_Audience Duration  \\\n",
       "0            1  Innovate Industries         Email       Men 18-24  30 days   \n",
       "1            2       NexGen Systems         Email     Women 35-44  60 days   \n",
       "2            3    Alpha Innovations    Influencer       Men 25-34  30 days   \n",
       "3            4   DataTech Solutions       Display        All Ages  60 days   \n",
       "4            5       NexGen Systems         Email       Men 25-34  15 days   \n",
       "\n",
       "  Channel_Used  Conversion_Rate Acquisition_Cost   ROI     Location  Language  \\\n",
       "0   Google Ads             0.04       $16,174.00  6.29      Chicago   Spanish   \n",
       "1   Google Ads             0.12       $11,566.00  5.61     New York    German   \n",
       "2      YouTube             0.07       $10,200.00  7.18  Los Angeles    French   \n",
       "3      YouTube             0.11       $12,724.00  5.55        Miami  Mandarin   \n",
       "4      YouTube             0.05       $16,452.00  6.50  Los Angeles  Mandarin   \n",
       "\n",
       "   Clicks  Impressions  Engagement_Score     Customer_Segment        Date  \n",
       "0     506         1922                 6    Health & Wellness  2021-01-01  \n",
       "1     116         7523                 7         Fashionistas  2021-01-02  \n",
       "2     584         7698                 1  Outdoor Adventurers  2021-01-03  \n",
       "3     217         1820                 7    Health & Wellness  2021-01-04  \n",
       "4     379         4201                 3    Health & Wellness  2021-01-05  "
      ]
     },
     "execution_count": 3,
     "metadata": {},
     "output_type": "execute_result"
    }
   ],
   "source": [
    "df=pd.read_csv('marketing_campaign_dataset.csv', sep=',')\n",
    "df.head()"
   ]
  },
  {
   "cell_type": "markdown",
   "id": "7aa7799c",
   "metadata": {},
   "source": [
    "## Data Estructure"
   ]
  },
  {
   "cell_type": "code",
   "execution_count": 12,
   "id": "ee82375e",
   "metadata": {},
   "outputs": [
    {
     "name": "stdout",
     "output_type": "stream",
     "text": [
      "<class 'pandas.core.frame.DataFrame'>\n",
      "RangeIndex: 200000 entries, 0 to 199999\n",
      "Data columns (total 16 columns):\n",
      " #   Column            Non-Null Count   Dtype   \n",
      "---  ------            --------------   -----   \n",
      " 0   Campaign_ID       200000 non-null  category\n",
      " 1   Company           200000 non-null  category\n",
      " 2   Campaign_Type     200000 non-null  category\n",
      " 3   Target_Audience   200000 non-null  category\n",
      " 4   Duration          200000 non-null  category\n",
      " 5   Channel_Used      200000 non-null  category\n",
      " 6   Conversion_Rate   200000 non-null  float64 \n",
      " 7   Acquisition_Cost  200000 non-null  float64 \n",
      " 8   ROI               200000 non-null  float64 \n",
      " 9   Location          200000 non-null  category\n",
      " 10  Language          200000 non-null  category\n",
      " 11  Clicks            200000 non-null  int64   \n",
      " 12  Impressions       200000 non-null  int64   \n",
      " 13  Engagement_Score  200000 non-null  int64   \n",
      " 14  Customer_Segment  200000 non-null  category\n",
      " 15  Date              200000 non-null  object  \n",
      "dtypes: category(9), float64(3), int64(3), object(1)\n",
      "memory usage: 18.5+ MB\n"
     ]
    }
   ],
   "source": [
    "df.info()"
   ]
  },
  {
   "cell_type": "code",
   "execution_count": 7,
   "id": "24f46aff",
   "metadata": {},
   "outputs": [],
   "source": [
    "categorical_variables = ['Campaign_ID','Company', 'Campaign_Type', 'Target_Audience', 'Duration','Channel_Used','Location','Language','Customer_Segment']\n",
    "\n",
    "for var in categorical_variables:\n",
    "    df[var] = df[var].astype('category')"
   ]
  },
  {
   "cell_type": "markdown",
   "id": "e917148b",
   "metadata": {},
   "source": [
    "## Missing values"
   ]
  },
  {
   "cell_type": "code",
   "execution_count": 4,
   "id": "637815c2",
   "metadata": {},
   "outputs": [
    {
     "name": "stdout",
     "output_type": "stream",
     "text": [
      "Campaign_ID         0\n",
      "Company             0\n",
      "Campaign_Type       0\n",
      "Target_Audience     0\n",
      "Duration            0\n",
      "Channel_Used        0\n",
      "Conversion_Rate     0\n",
      "Acquisition_Cost    0\n",
      "ROI                 0\n",
      "Location            0\n",
      "Language            0\n",
      "Clicks              0\n",
      "Impressions         0\n",
      "Engagement_Score    0\n",
      "Customer_Segment    0\n",
      "Date                0\n",
      "dtype: int64\n"
     ]
    }
   ],
   "source": [
    "df.isna()\n",
    "print(df.isna().sum())"
   ]
  },
  {
   "cell_type": "markdown",
   "id": "d935ae03",
   "metadata": {},
   "source": [
    "## Exploratory Data Analysis"
   ]
  },
  {
   "cell_type": "markdown",
   "id": "84f2015c",
   "metadata": {},
   "source": [
    "The database contains 200000 records about marketing campaigns. The conversion rate has an average value of 0.08 and a maximum value of 0.15. The Acquisition_Cost presents an average of 12504.39 with a minimum of 5000 and a maximum of 20000. On average it has an ROI of 5 and a maximum of 8. The minimum number of clicks in a campaign is 100 and a maximum of 1000, while 1000 is the minimum number of times the campaign was displayed or viewed by the target audience, with a maximum of 10000. The average level of engagement generated by the campaign is 5.5.\n",
    "\n",
    "\n"
   ]
  },
  {
   "cell_type": "code",
   "execution_count": 13,
   "id": "fe569b46",
   "metadata": {},
   "outputs": [
    {
     "data": {
      "text/html": [
       "<div>\n",
       "<style scoped>\n",
       "    .dataframe tbody tr th:only-of-type {\n",
       "        vertical-align: middle;\n",
       "    }\n",
       "\n",
       "    .dataframe tbody tr th {\n",
       "        vertical-align: top;\n",
       "    }\n",
       "\n",
       "    .dataframe thead th {\n",
       "        text-align: right;\n",
       "    }\n",
       "</style>\n",
       "<table border=\"1\" class=\"dataframe\">\n",
       "  <thead>\n",
       "    <tr style=\"text-align: right;\">\n",
       "      <th></th>\n",
       "      <th>Conversion_Rate</th>\n",
       "      <th>Acquisition_Cost</th>\n",
       "      <th>ROI</th>\n",
       "      <th>Clicks</th>\n",
       "      <th>Impressions</th>\n",
       "      <th>Engagement_Score</th>\n",
       "    </tr>\n",
       "  </thead>\n",
       "  <tbody>\n",
       "    <tr>\n",
       "      <th>count</th>\n",
       "      <td>200000.000000</td>\n",
       "      <td>200000.000000</td>\n",
       "      <td>200000.000000</td>\n",
       "      <td>200000.000000</td>\n",
       "      <td>200000.000000</td>\n",
       "      <td>200000.000000</td>\n",
       "    </tr>\n",
       "    <tr>\n",
       "      <th>mean</th>\n",
       "      <td>0.080070</td>\n",
       "      <td>12504.393040</td>\n",
       "      <td>5.002438</td>\n",
       "      <td>549.772030</td>\n",
       "      <td>5507.301520</td>\n",
       "      <td>5.494710</td>\n",
       "    </tr>\n",
       "    <tr>\n",
       "      <th>std</th>\n",
       "      <td>0.040602</td>\n",
       "      <td>4337.664545</td>\n",
       "      <td>1.734488</td>\n",
       "      <td>260.019056</td>\n",
       "      <td>2596.864286</td>\n",
       "      <td>2.872581</td>\n",
       "    </tr>\n",
       "    <tr>\n",
       "      <th>min</th>\n",
       "      <td>0.010000</td>\n",
       "      <td>5000.000000</td>\n",
       "      <td>2.000000</td>\n",
       "      <td>100.000000</td>\n",
       "      <td>1000.000000</td>\n",
       "      <td>1.000000</td>\n",
       "    </tr>\n",
       "    <tr>\n",
       "      <th>25%</th>\n",
       "      <td>0.050000</td>\n",
       "      <td>8739.750000</td>\n",
       "      <td>3.500000</td>\n",
       "      <td>325.000000</td>\n",
       "      <td>3266.000000</td>\n",
       "      <td>3.000000</td>\n",
       "    </tr>\n",
       "    <tr>\n",
       "      <th>50%</th>\n",
       "      <td>0.080000</td>\n",
       "      <td>12496.500000</td>\n",
       "      <td>5.010000</td>\n",
       "      <td>550.000000</td>\n",
       "      <td>5517.500000</td>\n",
       "      <td>5.000000</td>\n",
       "    </tr>\n",
       "    <tr>\n",
       "      <th>75%</th>\n",
       "      <td>0.120000</td>\n",
       "      <td>16264.000000</td>\n",
       "      <td>6.510000</td>\n",
       "      <td>775.000000</td>\n",
       "      <td>7753.000000</td>\n",
       "      <td>8.000000</td>\n",
       "    </tr>\n",
       "    <tr>\n",
       "      <th>max</th>\n",
       "      <td>0.150000</td>\n",
       "      <td>20000.000000</td>\n",
       "      <td>8.000000</td>\n",
       "      <td>1000.000000</td>\n",
       "      <td>10000.000000</td>\n",
       "      <td>10.000000</td>\n",
       "    </tr>\n",
       "  </tbody>\n",
       "</table>\n",
       "</div>"
      ],
      "text/plain": [
       "       Conversion_Rate  Acquisition_Cost            ROI         Clicks  \\\n",
       "count    200000.000000     200000.000000  200000.000000  200000.000000   \n",
       "mean          0.080070      12504.393040       5.002438     549.772030   \n",
       "std           0.040602       4337.664545       1.734488     260.019056   \n",
       "min           0.010000       5000.000000       2.000000     100.000000   \n",
       "25%           0.050000       8739.750000       3.500000     325.000000   \n",
       "50%           0.080000      12496.500000       5.010000     550.000000   \n",
       "75%           0.120000      16264.000000       6.510000     775.000000   \n",
       "max           0.150000      20000.000000       8.000000    1000.000000   \n",
       "\n",
       "         Impressions  Engagement_Score  \n",
       "count  200000.000000     200000.000000  \n",
       "mean     5507.301520          5.494710  \n",
       "std      2596.864286          2.872581  \n",
       "min      1000.000000          1.000000  \n",
       "25%      3266.000000          3.000000  \n",
       "50%      5517.500000          5.000000  \n",
       "75%      7753.000000          8.000000  \n",
       "max     10000.000000         10.000000  "
      ]
     },
     "execution_count": 13,
     "metadata": {},
     "output_type": "execute_result"
    }
   ],
   "source": [
    "# Summary statistics\n",
    "df.describe()"
   ]
  },
  {
   "cell_type": "markdown",
   "id": "2d1460f1",
   "metadata": {},
   "source": [
    "### Types of campaigns by company"
   ]
  },
  {
   "cell_type": "markdown",
   "id": "903d3b4a",
   "metadata": {},
   "source": [
    "The following chart shows the types of campaigns carried out by each of the companies. TechCorp tops the list with the highest number of campaigns, reaching a total of 40237, followed by Alpha Innovations and DataTech Solutions. For the most part, TechCorp carries out Influencer-type campaigns, while social media campaigns are less frequent. However, a similar pattern is observed in the number of campaigns among the different companies, suggesting that all five companies are executing a similar number of campaigns across different types."
   ]
  },
  {
   "cell_type": "code",
   "execution_count": 28,
   "id": "a0c290a7",
   "metadata": {},
   "outputs": [
    {
     "data": {
      "image/png": "[encoded data removed]",
      "text/plain": [
       "<Figure size 720x432 with 1 Axes>"
      ]
     },
     "metadata": {
      "needs_background": "light"
     },
     "output_type": "display_data"
    }
   ],
   "source": [
    "pivot_table = df.pivot_table(index='Company', columns='Campaign_Type', values='Campaign_ID', aggfunc='count')\n",
    "normalized_pivot = pivot_table.div(pivot_table.sum(axis=1), axis=0) * 100\n",
    "\n",
    "normalized_pivot.plot(kind='bar', stacked=True, figsize=(10, 6))\n",
    "plt.xlabel('Company')\n",
    "plt.ylabel('Percentage (%)')\n",
    "plt.title('Campaign Types by Company')\n",
    "plt.xticks(rotation=45)\n",
    "plt.legend(title='Campaign Type')\n",
    "plt.show()"
   ]
  },
  {
   "cell_type": "markdown",
   "id": "b38f0c9d",
   "metadata": {},
   "source": [
    "### Campaign by Target_Audience"
   ]
  },
  {
   "cell_type": "markdown",
   "id": "cbce5d6a",
   "metadata": {},
   "source": [
    "It can be observed that Influencer and Search campaigns are the most common in terms of frequency. In particular, Influencer type campaigns aim to attract an audience of various ages. Despite this, a similar trend in target audience is observed for the different campaign categories. This suggests that, although campaign types may vary, there is some consistency in the target audience approach, which could indicate an overall marketing strategy focused on a broad and diverse audience."
   ]
  },
  {
   "cell_type": "code",
   "execution_count": 32,
   "id": "a2a32568",
   "metadata": {},
   "outputs": [
    {
     "data": {
      "image/png": "[encoded data removed]",
      "text/plain": [
       "<Figure size 720x432 with 1 Axes>"
      ]
     },
     "metadata": {
      "needs_background": "light"
     },
     "output_type": "display_data"
    }
   ],
   "source": [
    "pivot_table11 = df.pivot_table(index='Campaign_Type', columns='Target_Audience', values='Campaign_ID', aggfunc='count')\n",
    "normalized_pivot = pivot_table11.div(pivot_table11.sum(axis=1), axis=0) * 100\n",
    "\n",
    "normalized_pivot.plot(kind='bar', stacked=True, figsize=(10, 6))\n",
    "plt.xlabel('Campaign_Type')\n",
    "plt.ylabel('Percentage (%)')\n",
    "plt.title('Campaign Types by Target_Audience')\n",
    "plt.xticks(rotation=45)\n",
    "plt.legend(title='Target_Audience')\n",
    "plt.show()"
   ]
  },
  {
   "cell_type": "code",
   "execution_count": 23,
   "id": "cbdf669a",
   "metadata": {},
   "outputs": [
    {
     "data": {
      "text/plain": [
       "Campaign_Type  Target_Audience\n",
       "Display        All Ages           7926\n",
       "               Men 18-24          8119\n",
       "               Men 25-34          7927\n",
       "               Women 25-34        8040\n",
       "               Women 35-44        7975\n",
       "Email          All Ages           7897\n",
       "               Men 18-24          8012\n",
       "               Men 25-34          7930\n",
       "               Women 25-34        8018\n",
       "               Women 35-44        8013\n",
       "Influencer     All Ages           8232\n",
       "               Men 18-24          8195\n",
       "               Men 25-34          8135\n",
       "               Women 25-34        7809\n",
       "               Women 35-44        7798\n",
       "Search         All Ages           8032\n",
       "               Men 18-24          7965\n",
       "               Men 25-34          8076\n",
       "               Women 25-34        8098\n",
       "               Women 35-44        7986\n",
       "Social Media   All Ages           7932\n",
       "               Men 18-24          7967\n",
       "               Men 25-34          7955\n",
       "               Women 25-34        8048\n",
       "               Women 35-44        7915\n",
       "Name: Campaign_Type, dtype: int64"
      ]
     },
     "execution_count": 23,
     "metadata": {},
     "output_type": "execute_result"
    }
   ],
   "source": [
    "df.groupby(['Campaign_Type','Target_Audience'])['Campaign_Type'].count()"
   ]
  },
  {
   "cell_type": "markdown",
   "id": "2ce2b422",
   "metadata": {},
   "source": [
    "### ROI by Campaign Type"
   ]
  },
  {
   "cell_type": "markdown",
   "id": "25277fec",
   "metadata": {},
   "source": [
    "When analyzing the Return on Investment (ROI), which reflects the profitability and success of the campaign, a uniform distribution is observed for each campaign. In this distribution, the average is around 5, with a minimum value of 2 and a maximum value of 8. An interesting insight here is that, despite the differences between the individual campaigns, there is some consistency in the ROI measure, suggesting effective management of resources and a balanced approach to overall profitability."
   ]
  },
  {
   "cell_type": "code",
   "execution_count": 5,
   "id": "69fe3362",
   "metadata": {},
   "outputs": [
    {
     "data": {
      "image/png": "[encoded data removed]",
      "text/plain": [
       "<Figure size 720x432 with 1 Axes>"
      ]
     },
     "metadata": {
      "needs_background": "light"
     },
     "output_type": "display_data"
    }
   ],
   "source": [
    "plt.figure(figsize=(10, 6))\n",
    "sns.boxplot(data=df, x='Campaign_Type', y='ROI')\n",
    "plt.title('Box plot of ROI by Campaign Type')\n",
    "plt.xlabel('Campaign Type')\n",
    "plt.ylabel('ROI')\n",
    "plt.show()"
   ]
  },
  {
   "cell_type": "code",
   "execution_count": 46,
   "id": "36d1ac0f",
   "metadata": {},
   "outputs": [
    {
     "data": {
      "text/plain": [
       "Campaign_Type\n",
       "Display         12508.034461\n",
       "Email           12495.346100\n",
       "Influencer      12507.170330\n",
       "Search          12498.736459\n",
       "Social Media    12512.698094\n",
       "Name: Acquisition_Cost, dtype: float64"
      ]
     },
     "execution_count": 46,
     "metadata": {},
     "output_type": "execute_result"
    }
   ],
   "source": [
    "df.groupby('Campaign_Type')['Acquisition_Cost'].mean()"
   ]
  },
  {
   "cell_type": "markdown",
   "id": "ccc64b58",
   "metadata": {},
   "source": [
    "### Distribution of Channel Usage"
   ]
  },
  {
   "cell_type": "markdown",
   "id": "d7697b57",
   "metadata": {},
   "source": [
    "The channels used to promote campaigns are generally used in almost equal amounts. Google Ads, YouTube and Instagram each account for a 16.7% share, while Email has a 16.8% share. This suggests that campaigns are fairly evenly distributed across multiple channels. An interesting insight here is that the company appears to be taking a balanced and diversified approach to reaching its audience, making use of multiple platforms with comparable emphasis."
   ]
  },
  {
   "cell_type": "code",
   "execution_count": 6,
   "id": "6c72d0df",
   "metadata": {},
   "outputs": [
    {
     "data": {
      "image/png": "[encoded data removed]",
      "text/plain": [
       "<Figure size 576x576 with 1 Axes>"
      ]
     },
     "metadata": {},
     "output_type": "display_data"
    }
   ],
   "source": [
    "channel_counts = df['Channel_Used'].value_counts()\n",
    "\n",
    "plt.figure(figsize=(8, 8))\n",
    "plt.pie(channel_counts, labels=channel_counts.index, autopct='%1.1f%%')\n",
    "plt.title('Distribution of Channel Usage')\n",
    "plt.show()"
   ]
  },
  {
   "cell_type": "markdown",
   "id": "fc84f071",
   "metadata": {},
   "source": [
    "### Duration Distribution by Campaign Type"
   ]
  },
  {
   "cell_type": "markdown",
   "id": "966fd574",
   "metadata": {},
   "source": [
    "In relation to the duration of the campaigns, there is a diversity of time periods: 15, 30, 45 and 60 days. Most of the campaigns are executed with a duration of 30 days. Each campaign has a homogeneous distribution in terms of duration. This pattern suggests that both short and longer campaigns are carried out. A relevant insight here is that the company seems to adopt a flexible strategy in terms of campaign duration, allowing it to adapt to different marketing objectives and approaches, either for one-off campaigns or for long-term strategies."
   ]
  },
  {
   "cell_type": "code",
   "execution_count": 51,
   "id": "0464179c",
   "metadata": {},
   "outputs": [
    {
     "data": {
      "text/plain": [
       "<Figure size 720x432 with 0 Axes>"
      ]
     },
     "metadata": {},
     "output_type": "display_data"
    },
    {
     "data": {
      "image/png": "[encoded data removed]",
      "text/plain": [
       "<Figure size 432x288 with 1 Axes>"
      ]
     },
     "metadata": {
      "needs_background": "light"
     },
     "output_type": "display_data"
    }
   ],
   "source": [
    "pivot_table2 = df.pivot_table(index='Campaign_Type', columns='Duration', values='Campaign_ID', aggfunc='count')\n",
    "normalized_pivot = pivot_table2.div(pivot_table2.sum(axis=1), axis=0) * 100\n",
    "\n",
    "plt.figure(figsize=(10, 6))\n",
    "normalized_pivot.plot(kind='bar', stacked=True)\n",
    "plt.xlabel('Campaign Type')\n",
    "plt.ylabel('Percentage (%)')\n",
    "plt.title('Duration Distribution by Campaign Type')\n",
    "plt.xticks(rotation=0)\n",
    "plt.legend(title='Duration')\n",
    "plt.show()"
   ]
  },
  {
   "cell_type": "code",
   "execution_count": 37,
   "id": "7088e239",
   "metadata": {},
   "outputs": [
    {
     "data": {
      "text/plain": [
       "Duration\n",
       "15 days    49779\n",
       "30 days    50255\n",
       "45 days    50100\n",
       "60 days    49866\n",
       "Name: Duration, dtype: int64"
      ]
     },
     "execution_count": 37,
     "metadata": {},
     "output_type": "execute_result"
    }
   ],
   "source": [
    "df.groupby('Duration')['Duration'].count()"
   ]
  },
  {
   "cell_type": "markdown",
   "id": "7fb58475",
   "metadata": {},
   "source": [
    "### Location"
   ]
  },
  {
   "cell_type": "markdown",
   "id": "88b691c6",
   "metadata": {},
   "source": [
    "Miami has the most extensive campaigns, followed by New York. In terms of the cost the company incurs to acquire customers, the average in Miami is 12515.16, while Los Angeles has a slightly higher value of 12532.53."
   ]
  },
  {
   "cell_type": "code",
   "execution_count": 38,
   "id": "73be74aa",
   "metadata": {},
   "outputs": [
    {
     "data": {
      "text/plain": [
       "Miami          40269\n",
       "New York       40024\n",
       "Chicago        40010\n",
       "Los Angeles    39947\n",
       "Houston        39750\n",
       "Name: Location, dtype: int64"
      ]
     },
     "execution_count": 38,
     "metadata": {},
     "output_type": "execute_result"
    }
   ],
   "source": [
    "df['Location'].value_counts()"
   ]
  },
  {
   "cell_type": "code",
   "execution_count": 41,
   "id": "71639f89",
   "metadata": {},
   "outputs": [
    {
     "data": {
      "text/plain": [
       "Location\n",
       "Chicago        12515.161585\n",
       "Houston        12454.387245\n",
       "Los Angeles    12532.539765\n",
       "Miami          12515.208001\n",
       "New York       12504.317984\n",
       "Name: Acquisition_Cost, dtype: float64"
      ]
     },
     "execution_count": 41,
     "metadata": {},
     "output_type": "execute_result"
    }
   ],
   "source": [
    "df.groupby('Location')['Acquisition_Cost'].mean()"
   ]
  },
  {
   "cell_type": "markdown",
   "id": "61866579",
   "metadata": {},
   "source": [
    "### Language"
   ]
  },
  {
   "cell_type": "markdown",
   "id": "1501d1f5",
   "metadata": {},
   "source": [
    "It is clear that most of the campaigns are conducted in Mandarin, followed by those in Spanish."
   ]
  },
  {
   "cell_type": "code",
   "execution_count": 45,
   "id": "0e11d7cd",
   "metadata": {},
   "outputs": [
    {
     "data": {
      "text/plain": [
       "Mandarin    40255\n",
       "Spanish     40102\n",
       "German      39983\n",
       "English     39896\n",
       "French      39764\n",
       "Name: Language, dtype: int64"
      ]
     },
     "execution_count": 45,
     "metadata": {},
     "output_type": "execute_result"
    }
   ],
   "source": [
    "df['Language'].value_counts()"
   ]
  },
  {
   "cell_type": "markdown",
   "id": "f7bbe4de",
   "metadata": {},
   "source": [
    "### Campaign type by total clicks and impressions"
   ]
  },
  {
   "cell_type": "markdown",
   "id": "b709c77f",
   "metadata": {},
   "source": [
    "When analyzing the type of campaign according to the number of times users clicked on the campaign content or ad, it becomes evident that Influencer type campaigns receive the most clicks, followed by Display type campaigns. Also when examining the impressions, it stands out that the type of campaign that registers the highest number of times the campaign content was shown to users is search."
   ]
  },
  {
   "cell_type": "code",
   "execution_count": 47,
   "id": "e7623b06",
   "metadata": {},
   "outputs": [
    {
     "data": {
      "text/plain": [
       "Campaign_Type\n",
       "Display         220074756\n",
       "Email           220144927\n",
       "Influencer      220769081\n",
       "Search          221415139\n",
       "Social Media    219056401\n",
       "Name: Impressions, dtype: int64"
      ]
     },
     "execution_count": 47,
     "metadata": {},
     "output_type": "execute_result"
    }
   ],
   "source": [
    "df.groupby('Campaign_Type')['Clicks'].sum()"
   ]
  },
  {
   "cell_type": "code",
   "execution_count": 48,
   "id": "9f3961c9",
   "metadata": {},
   "outputs": [
    {
     "data": {
      "text/plain": [
       "Campaign_Type\n",
       "Display         220074756\n",
       "Email           220144927\n",
       "Influencer      220769081\n",
       "Search          221415139\n",
       "Social Media    219056401\n",
       "Name: Impressions, dtype: int64"
      ]
     },
     "execution_count": 48,
     "metadata": {},
     "output_type": "execute_result"
    }
   ],
   "source": [
    "df.groupby('Campaign_Type')['Impressions'].sum()"
   ]
  },
  {
   "cell_type": "markdown",
   "id": "a7b88a15",
   "metadata": {},
   "source": [
    "## Conclusions"
   ]
  },
  {
   "cell_type": "markdown",
   "id": "c8af5820",
   "metadata": {},
   "source": [
    "Analyzing the information provided, several significant insights emerge. The even distribution in Return on Investment (ROI) suggests efficient resource management and an equitable strategy to achieve consistent benefits across different types of campaigns. The balanced use of multiple promotional channels highlights a broad and diversified approach to reaching the audience, which could be contributing to the overall success of the campaigns by maximizing their reach. The variety in the duration of the campaigns reflects a flexible strategy that adapts to both short-term objectives and long-term strategies, evidencing adaptability and agility.\n",
    "\n",
    "The concentrated campaigns in Miami and New York indicate a strategic geographic focus on high-impact areas, while the difference in acquisition costs between Miami and Los Angeles may reveal insights into market dynamics or specific regional strategies. In addition, the preference for Mandarin and Spanish-language campaigns reflects an effort to reach specific audiences based on their language and cultural preferences.\n",
    "\n",
    "These observations indicate that the company adopts a balanced and adaptive strategy in its marketing efforts, focusing on maximizing impact, personalizing communication and maintaining an effective presence across different channels and campaign durations."
   ]
  },
  {
   "cell_type": "code",
   "execution_count": null,
   "id": "611e5393",
   "metadata": {},
   "outputs": [],
   "source": []
  }
 ],
 "metadata": {
  "kernelspec": {
   "display_name": "Python 3 (ipykernel)",
   "language": "python",
   "name": "python3"
  },
  "language_info": {
   "codemirror_mode": {
    "name": "ipython",
    "version": 3
   },
   "file_extension": ".py",
   "mimetype": "text/x-python",
   "name": "python",
   "nbconvert_exporter": "python",
   "pygments_lexer": "ipython3",
   "version": "3.9.12"
  }
 },
 "nbformat": 4,
 "nbformat_minor": 5
}
